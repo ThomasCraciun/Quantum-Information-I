{
 "cells": [
  {
   "cell_type": "code",
   "execution_count": 40,
   "id": "b1a9b311-13bf-4b6f-b191-361498f7bbf8",
   "metadata": {},
   "outputs": [],
   "source": [
    "import numpy as np\n",
    "from numpy import array, dot, pi\n",
    "import scipy.sparse as sp\n",
    "from scipy.sparse.linalg import eigsh\n",
    "from scipy.linalg import eigvals\n",
    "from scipy.linalg import eigh"
   ]
  },
  {
   "cell_type": "code",
   "execution_count": 12,
   "id": "7a0d3836-4c96-46e5-b1d9-74ecade4105f",
   "metadata": {},
   "outputs": [
    {
     "data": {
      "text/plain": [
       "np.complex128(5-2j)"
      ]
     },
     "execution_count": 12,
     "metadata": {},
     "output_type": "execute_result"
    }
   ],
   "source": [
    "np.conj(5+2j)"
   ]
  },
  {
   "cell_type": "code",
   "execution_count": 11,
   "id": "2bf3421a-5bfc-424a-8294-1c575f7dfb80",
   "metadata": {},
   "outputs": [
    {
     "name": "stdout",
     "output_type": "stream",
     "text": [
      "[1.+2.j 3.-4.j]\n"
     ]
    }
   ],
   "source": [
    "v = np.array([1 + 2j, 3 - 4j])\n",
    "print(v)"
   ]
  },
  {
   "cell_type": "code",
   "execution_count": 14,
   "id": "5c2fc385-ee0a-4973-b916-812289efe2a0",
   "metadata": {},
   "outputs": [
    {
     "name": "stdout",
     "output_type": "stream",
     "text": [
      "[ 6. +8.j 10.-12.j]\n"
     ]
    }
   ],
   "source": [
    "u = np.array([5 + 6j, 7 - 8j])\n",
    "print(v+u)"
   ]
  },
  {
   "cell_type": "code",
   "execution_count": 16,
   "id": "b1fb8798-f824-4e34-bbed-c112bb18d663",
   "metadata": {},
   "outputs": [
    {
     "data": {
      "text/plain": [
       "np.complex128(70+0j)"
      ]
     },
     "execution_count": 16,
     "metadata": {},
     "output_type": "execute_result"
    }
   ],
   "source": [
    "np.dot(np.conj(v).T,u)"
   ]
  },
  {
   "cell_type": "code",
   "execution_count": 18,
   "id": "465bd9bb-3434-41d0-815c-d6ce1ea8f731",
   "metadata": {},
   "outputs": [],
   "source": [
    "def pauli_X():\n",
    "    op=sp.csr_matrix([[0,1],[1,0]])\n",
    "    return op\n",
    "\n",
    "def pauli_Z():\n",
    "    op=sp.csr_matrix([[1,0],[0,-1]])\n",
    "    return op\n",
    "\n",
    "def pauli_Y():\n",
    "    op=sp.csr_matrix([[0,-1j],[1j,0]])\n",
    "    return op"
   ]
  },
  {
   "cell_type": "code",
   "execution_count": 22,
   "id": "f4193700-4086-4252-84e8-71a22533d750",
   "metadata": {},
   "outputs": [
    {
     "name": "stdout",
     "output_type": "stream",
     "text": [
      "<Compressed Sparse Row sparse matrix of dtype 'int64'\n",
      "\twith 2 stored elements and shape (2, 2)>\n",
      "  Coords\tValues\n",
      "  (0, 1)\t1\n",
      "  (1, 0)\t1\n"
     ]
    }
   ],
   "source": [
    "print(pauli_X())"
   ]
  },
  {
   "cell_type": "code",
   "execution_count": 24,
   "id": "fe03eb0c-02fd-42b9-9e6e-cc217acd31fb",
   "metadata": {},
   "outputs": [
    {
     "name": "stdout",
     "output_type": "stream",
     "text": [
      "<Compressed Sparse Row sparse matrix of dtype 'int64'\n",
      "\twith 2 stored elements and shape (2, 2)>\n",
      "  Coords\tValues\n",
      "  (0, 0)\t1\n",
      "  (1, 1)\t-1\n"
     ]
    }
   ],
   "source": [
    "print(pauli_Z())"
   ]
  },
  {
   "cell_type": "code",
   "execution_count": 26,
   "id": "8d7f6060-d767-40e0-bd34-19b578d0acb1",
   "metadata": {},
   "outputs": [
    {
     "name": "stdout",
     "output_type": "stream",
     "text": [
      "<Compressed Sparse Row sparse matrix of dtype 'complex128'\n",
      "\twith 2 stored elements and shape (2, 2)>\n",
      "  Coords\tValues\n",
      "  (0, 1)\t(-0-1j)\n",
      "  (1, 0)\t1j\n"
     ]
    }
   ],
   "source": [
    "print(pauli_Y())"
   ]
  },
  {
   "cell_type": "code",
   "execution_count": 50,
   "id": "6c3ac366-29ea-479a-af16-b5f678574677",
   "metadata": {},
   "outputs": [
    {
     "name": "stdout",
     "output_type": "stream",
     "text": [
      "(15+0j)\n"
     ]
    }
   ],
   "source": [
    "#3\n",
    "c = np.array([1 + 1j, 3 - 2j])\n",
    "print(np.dot(np.conjugate(c),c))"
   ]
  },
  {
   "cell_type": "code",
   "execution_count": 51,
   "id": "d68f0f5d-a17c-4ccf-aa5e-f87208ebbe29",
   "metadata": {},
   "outputs": [
    {
     "name": "stdout",
     "output_type": "stream",
     "text": [
      "[[2.+0.j 1.-1.j]\n",
      " [1.+1.j 3.+0.j]]\n"
     ]
    }
   ],
   "source": [
    "#4\n",
    "H = np.array([[2, 1 - 1j],[1 + 1j, 3]])\n",
    "print(H)"
   ]
  },
  {
   "cell_type": "code",
   "execution_count": 49,
   "id": "777e8b15-93bc-4ddc-b727-b31dd4e85d9d",
   "metadata": {},
   "outputs": [
    {
     "name": "stdout",
     "output_type": "stream",
     "text": [
      "Eigenvalues:\n",
      "[1.-2.52702567e-16j 4.-1.91386643e-16j]\n",
      "\n",
      "Eigenvectors:\n",
      "[[ 0.81649658+0.j          0.40824829-0.40824829j]\n",
      " [-0.40824829-0.40824829j  0.81649658+0.j        ]]\n"
     ]
    }
   ],
   "source": [
    "eigenvalues, eigenvectors = np.linalg.eig(H)\n",
    "\n",
    "print(\"Eigenvalues:\")\n",
    "print(eigenvalues)\n",
    "print(\"\\nEigenvectors:\")\n",
    "print(eigenvectors)"
   ]
  },
  {
   "cell_type": "code",
   "execution_count": null,
   "id": "6e7a94ee-d687-404f-a561-0a4e7261c448",
   "metadata": {},
   "outputs": [],
   "source": []
  }
 ],
 "metadata": {
  "kernelspec": {
   "display_name": "Python 3 (ipykernel)",
   "language": "python",
   "name": "python3"
  },
  "language_info": {
   "codemirror_mode": {
    "name": "ipython",
    "version": 3
   },
   "file_extension": ".py",
   "mimetype": "text/x-python",
   "name": "python",
   "nbconvert_exporter": "python",
   "pygments_lexer": "ipython3",
   "version": "3.12.5"
  }
 },
 "nbformat": 4,
 "nbformat_minor": 5
}
